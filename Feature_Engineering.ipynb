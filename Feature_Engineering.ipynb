{
  "nbformat": 4,
  "nbformat_minor": 0,
  "metadata": {
    "colab": {
      "provenance": []
    },
    "kernelspec": {
      "name": "python3",
      "display_name": "Python 3"
    },
    "language_info": {
      "name": "python"
    }
  },
  "cells": [
    {
      "cell_type": "code",
      "source": [
        "import pandas as pd\n",
        "import numpy as np\n",
        "import matplotlib.pyplot as plt\n",
        "import requests\n",
        "from collections import defaultdict\n",
        "from math import radians, cos, sin, asin, sqrt\n",
        "import scipy.stats as stats\n",
        "from scipy.stats import levene\n",
        "import statsmodels.api as sm\n",
        "import statsmodels.formula.api as smf"
      ],
      "metadata": {
        "id": "FnovVn06CiUz"
      },
      "execution_count": null,
      "outputs": []
    },
    {
      "cell_type": "code",
      "source": [
        "data = pd.read_csv(\"https://raw.githubusercontent.com/LouZhou1/ricedatathon2023/main/datathon_2024_dataset%20(1).csv\")\n",
        "data.head()"
      ],
      "metadata": {
        "colab": {
          "base_uri": "https://localhost:8080/",
          "height": 290
        },
        "id": "J9XOcTOXCvYb",
        "outputId": "29af4e2a-aebe-4767-800e-d71cadb203fc"
      },
      "execution_count": null,
      "outputs": [
        {
          "output_type": "execute_result",
          "data": {
            "text/plain": [
              "   Unnamed: 0  game_date home_team away_team  is_day_game  home_score  \\\n",
              "0           0   20000329       NYN       CHN        False           3   \n",
              "1           1   20000330       CHN       NYN        False           1   \n",
              "2           2   20000403       ATL       COL         True           2   \n",
              "3           3   20000403       CIN       MIL         True           3   \n",
              "4           4   20000403       FLO       SFN        False           6   \n",
              "\n",
              "   away_score  venue        venue_name        city  ... home_hbp  away_pa  \\\n",
              "0           5  TOK01        Tokyo Dome       Tokyo  ...        1       38   \n",
              "1           5  TOK01        Tokyo Dome       Tokyo  ...        1       44   \n",
              "2           0  ATL02      Turner Field     Atlanta  ...        0       32   \n",
              "3           3  CIN08     Cinergy Field  Cincinnati  ...        0       20   \n",
              "4           4  MIA01  Sun Life Stadium       Miami  ...        0       38   \n",
              "\n",
              "   away_1b  away_2b  away_3b  away_hr  away_fo  away_so  away_bb  away_hbp  \n",
              "0        5        1        0        1       24        4        3         0  \n",
              "1        5        0        0        0       24        9        6         0  \n",
              "2        5        0        0        2       17        6        1         1  \n",
              "3        3        1        0        1       10        4        1         0  \n",
              "4        9        3        0        0       17        7        1         1  \n",
              "\n",
              "[5 rows x 29 columns]"
            ],
            "text/html": [
              "\n",
              "  <div id=\"df-bc309463-fa80-4706-9c6c-4b443c380e5a\" class=\"colab-df-container\">\n",
              "    <div>\n",
              "<style scoped>\n",
              "    .dataframe tbody tr th:only-of-type {\n",
              "        vertical-align: middle;\n",
              "    }\n",
              "\n",
              "    .dataframe tbody tr th {\n",
              "        vertical-align: top;\n",
              "    }\n",
              "\n",
              "    .dataframe thead th {\n",
              "        text-align: right;\n",
              "    }\n",
              "</style>\n",
              "<table border=\"1\" class=\"dataframe\">\n",
              "  <thead>\n",
              "    <tr style=\"text-align: right;\">\n",
              "      <th></th>\n",
              "      <th>Unnamed: 0</th>\n",
              "      <th>game_date</th>\n",
              "      <th>home_team</th>\n",
              "      <th>away_team</th>\n",
              "      <th>is_day_game</th>\n",
              "      <th>home_score</th>\n",
              "      <th>away_score</th>\n",
              "      <th>venue</th>\n",
              "      <th>venue_name</th>\n",
              "      <th>city</th>\n",
              "      <th>...</th>\n",
              "      <th>home_hbp</th>\n",
              "      <th>away_pa</th>\n",
              "      <th>away_1b</th>\n",
              "      <th>away_2b</th>\n",
              "      <th>away_3b</th>\n",
              "      <th>away_hr</th>\n",
              "      <th>away_fo</th>\n",
              "      <th>away_so</th>\n",
              "      <th>away_bb</th>\n",
              "      <th>away_hbp</th>\n",
              "    </tr>\n",
              "  </thead>\n",
              "  <tbody>\n",
              "    <tr>\n",
              "      <th>0</th>\n",
              "      <td>0</td>\n",
              "      <td>20000329</td>\n",
              "      <td>NYN</td>\n",
              "      <td>CHN</td>\n",
              "      <td>False</td>\n",
              "      <td>3</td>\n",
              "      <td>5</td>\n",
              "      <td>TOK01</td>\n",
              "      <td>Tokyo Dome</td>\n",
              "      <td>Tokyo</td>\n",
              "      <td>...</td>\n",
              "      <td>1</td>\n",
              "      <td>38</td>\n",
              "      <td>5</td>\n",
              "      <td>1</td>\n",
              "      <td>0</td>\n",
              "      <td>1</td>\n",
              "      <td>24</td>\n",
              "      <td>4</td>\n",
              "      <td>3</td>\n",
              "      <td>0</td>\n",
              "    </tr>\n",
              "    <tr>\n",
              "      <th>1</th>\n",
              "      <td>1</td>\n",
              "      <td>20000330</td>\n",
              "      <td>CHN</td>\n",
              "      <td>NYN</td>\n",
              "      <td>False</td>\n",
              "      <td>1</td>\n",
              "      <td>5</td>\n",
              "      <td>TOK01</td>\n",
              "      <td>Tokyo Dome</td>\n",
              "      <td>Tokyo</td>\n",
              "      <td>...</td>\n",
              "      <td>1</td>\n",
              "      <td>44</td>\n",
              "      <td>5</td>\n",
              "      <td>0</td>\n",
              "      <td>0</td>\n",
              "      <td>0</td>\n",
              "      <td>24</td>\n",
              "      <td>9</td>\n",
              "      <td>6</td>\n",
              "      <td>0</td>\n",
              "    </tr>\n",
              "    <tr>\n",
              "      <th>2</th>\n",
              "      <td>2</td>\n",
              "      <td>20000403</td>\n",
              "      <td>ATL</td>\n",
              "      <td>COL</td>\n",
              "      <td>True</td>\n",
              "      <td>2</td>\n",
              "      <td>0</td>\n",
              "      <td>ATL02</td>\n",
              "      <td>Turner Field</td>\n",
              "      <td>Atlanta</td>\n",
              "      <td>...</td>\n",
              "      <td>0</td>\n",
              "      <td>32</td>\n",
              "      <td>5</td>\n",
              "      <td>0</td>\n",
              "      <td>0</td>\n",
              "      <td>2</td>\n",
              "      <td>17</td>\n",
              "      <td>6</td>\n",
              "      <td>1</td>\n",
              "      <td>1</td>\n",
              "    </tr>\n",
              "    <tr>\n",
              "      <th>3</th>\n",
              "      <td>3</td>\n",
              "      <td>20000403</td>\n",
              "      <td>CIN</td>\n",
              "      <td>MIL</td>\n",
              "      <td>True</td>\n",
              "      <td>3</td>\n",
              "      <td>3</td>\n",
              "      <td>CIN08</td>\n",
              "      <td>Cinergy Field</td>\n",
              "      <td>Cincinnati</td>\n",
              "      <td>...</td>\n",
              "      <td>0</td>\n",
              "      <td>20</td>\n",
              "      <td>3</td>\n",
              "      <td>1</td>\n",
              "      <td>0</td>\n",
              "      <td>1</td>\n",
              "      <td>10</td>\n",
              "      <td>4</td>\n",
              "      <td>1</td>\n",
              "      <td>0</td>\n",
              "    </tr>\n",
              "    <tr>\n",
              "      <th>4</th>\n",
              "      <td>4</td>\n",
              "      <td>20000403</td>\n",
              "      <td>FLO</td>\n",
              "      <td>SFN</td>\n",
              "      <td>False</td>\n",
              "      <td>6</td>\n",
              "      <td>4</td>\n",
              "      <td>MIA01</td>\n",
              "      <td>Sun Life Stadium</td>\n",
              "      <td>Miami</td>\n",
              "      <td>...</td>\n",
              "      <td>0</td>\n",
              "      <td>38</td>\n",
              "      <td>9</td>\n",
              "      <td>3</td>\n",
              "      <td>0</td>\n",
              "      <td>0</td>\n",
              "      <td>17</td>\n",
              "      <td>7</td>\n",
              "      <td>1</td>\n",
              "      <td>1</td>\n",
              "    </tr>\n",
              "  </tbody>\n",
              "</table>\n",
              "<p>5 rows × 29 columns</p>\n",
              "</div>\n",
              "    <div class=\"colab-df-buttons\">\n",
              "\n",
              "  <div class=\"colab-df-container\">\n",
              "    <button class=\"colab-df-convert\" onclick=\"convertToInteractive('df-bc309463-fa80-4706-9c6c-4b443c380e5a')\"\n",
              "            title=\"Convert this dataframe to an interactive table.\"\n",
              "            style=\"display:none;\">\n",
              "\n",
              "  <svg xmlns=\"http://www.w3.org/2000/svg\" height=\"24px\" viewBox=\"0 -960 960 960\">\n",
              "    <path d=\"M120-120v-720h720v720H120Zm60-500h600v-160H180v160Zm220 220h160v-160H400v160Zm0 220h160v-160H400v160ZM180-400h160v-160H180v160Zm440 0h160v-160H620v160ZM180-180h160v-160H180v160Zm440 0h160v-160H620v160Z\"/>\n",
              "  </svg>\n",
              "    </button>\n",
              "\n",
              "  <style>\n",
              "    .colab-df-container {\n",
              "      display:flex;\n",
              "      gap: 12px;\n",
              "    }\n",
              "\n",
              "    .colab-df-convert {\n",
              "      background-color: #E8F0FE;\n",
              "      border: none;\n",
              "      border-radius: 50%;\n",
              "      cursor: pointer;\n",
              "      display: none;\n",
              "      fill: #1967D2;\n",
              "      height: 32px;\n",
              "      padding: 0 0 0 0;\n",
              "      width: 32px;\n",
              "    }\n",
              "\n",
              "    .colab-df-convert:hover {\n",
              "      background-color: #E2EBFA;\n",
              "      box-shadow: 0px 1px 2px rgba(60, 64, 67, 0.3), 0px 1px 3px 1px rgba(60, 64, 67, 0.15);\n",
              "      fill: #174EA6;\n",
              "    }\n",
              "\n",
              "    .colab-df-buttons div {\n",
              "      margin-bottom: 4px;\n",
              "    }\n",
              "\n",
              "    [theme=dark] .colab-df-convert {\n",
              "      background-color: #3B4455;\n",
              "      fill: #D2E3FC;\n",
              "    }\n",
              "\n",
              "    [theme=dark] .colab-df-convert:hover {\n",
              "      background-color: #434B5C;\n",
              "      box-shadow: 0px 1px 3px 1px rgba(0, 0, 0, 0.15);\n",
              "      filter: drop-shadow(0px 1px 2px rgba(0, 0, 0, 0.3));\n",
              "      fill: #FFFFFF;\n",
              "    }\n",
              "  </style>\n",
              "\n",
              "    <script>\n",
              "      const buttonEl =\n",
              "        document.querySelector('#df-bc309463-fa80-4706-9c6c-4b443c380e5a button.colab-df-convert');\n",
              "      buttonEl.style.display =\n",
              "        google.colab.kernel.accessAllowed ? 'block' : 'none';\n",
              "\n",
              "      async function convertToInteractive(key) {\n",
              "        const element = document.querySelector('#df-bc309463-fa80-4706-9c6c-4b443c380e5a');\n",
              "        const dataTable =\n",
              "          await google.colab.kernel.invokeFunction('convertToInteractive',\n",
              "                                                    [key], {});\n",
              "        if (!dataTable) return;\n",
              "\n",
              "        const docLinkHtml = 'Like what you see? Visit the ' +\n",
              "          '<a target=\"_blank\" href=https://colab.research.google.com/notebooks/data_table.ipynb>data table notebook</a>'\n",
              "          + ' to learn more about interactive tables.';\n",
              "        element.innerHTML = '';\n",
              "        dataTable['output_type'] = 'display_data';\n",
              "        await google.colab.output.renderOutput(dataTable, element);\n",
              "        const docLink = document.createElement('div');\n",
              "        docLink.innerHTML = docLinkHtml;\n",
              "        element.appendChild(docLink);\n",
              "      }\n",
              "    </script>\n",
              "  </div>\n",
              "\n",
              "\n",
              "<div id=\"df-4deaa271-e7b0-4358-b130-f3f344e2a975\">\n",
              "  <button class=\"colab-df-quickchart\" onclick=\"quickchart('df-4deaa271-e7b0-4358-b130-f3f344e2a975')\"\n",
              "            title=\"Suggest charts\"\n",
              "            style=\"display:none;\">\n",
              "\n",
              "<svg xmlns=\"http://www.w3.org/2000/svg\" height=\"24px\"viewBox=\"0 0 24 24\"\n",
              "     width=\"24px\">\n",
              "    <g>\n",
              "        <path d=\"M19 3H5c-1.1 0-2 .9-2 2v14c0 1.1.9 2 2 2h14c1.1 0 2-.9 2-2V5c0-1.1-.9-2-2-2zM9 17H7v-7h2v7zm4 0h-2V7h2v10zm4 0h-2v-4h2v4z\"/>\n",
              "    </g>\n",
              "</svg>\n",
              "  </button>\n",
              "\n",
              "<style>\n",
              "  .colab-df-quickchart {\n",
              "      --bg-color: #E8F0FE;\n",
              "      --fill-color: #1967D2;\n",
              "      --hover-bg-color: #E2EBFA;\n",
              "      --hover-fill-color: #174EA6;\n",
              "      --disabled-fill-color: #AAA;\n",
              "      --disabled-bg-color: #DDD;\n",
              "  }\n",
              "\n",
              "  [theme=dark] .colab-df-quickchart {\n",
              "      --bg-color: #3B4455;\n",
              "      --fill-color: #D2E3FC;\n",
              "      --hover-bg-color: #434B5C;\n",
              "      --hover-fill-color: #FFFFFF;\n",
              "      --disabled-bg-color: #3B4455;\n",
              "      --disabled-fill-color: #666;\n",
              "  }\n",
              "\n",
              "  .colab-df-quickchart {\n",
              "    background-color: var(--bg-color);\n",
              "    border: none;\n",
              "    border-radius: 50%;\n",
              "    cursor: pointer;\n",
              "    display: none;\n",
              "    fill: var(--fill-color);\n",
              "    height: 32px;\n",
              "    padding: 0;\n",
              "    width: 32px;\n",
              "  }\n",
              "\n",
              "  .colab-df-quickchart:hover {\n",
              "    background-color: var(--hover-bg-color);\n",
              "    box-shadow: 0 1px 2px rgba(60, 64, 67, 0.3), 0 1px 3px 1px rgba(60, 64, 67, 0.15);\n",
              "    fill: var(--button-hover-fill-color);\n",
              "  }\n",
              "\n",
              "  .colab-df-quickchart-complete:disabled,\n",
              "  .colab-df-quickchart-complete:disabled:hover {\n",
              "    background-color: var(--disabled-bg-color);\n",
              "    fill: var(--disabled-fill-color);\n",
              "    box-shadow: none;\n",
              "  }\n",
              "\n",
              "  .colab-df-spinner {\n",
              "    border: 2px solid var(--fill-color);\n",
              "    border-color: transparent;\n",
              "    border-bottom-color: var(--fill-color);\n",
              "    animation:\n",
              "      spin 1s steps(1) infinite;\n",
              "  }\n",
              "\n",
              "  @keyframes spin {\n",
              "    0% {\n",
              "      border-color: transparent;\n",
              "      border-bottom-color: var(--fill-color);\n",
              "      border-left-color: var(--fill-color);\n",
              "    }\n",
              "    20% {\n",
              "      border-color: transparent;\n",
              "      border-left-color: var(--fill-color);\n",
              "      border-top-color: var(--fill-color);\n",
              "    }\n",
              "    30% {\n",
              "      border-color: transparent;\n",
              "      border-left-color: var(--fill-color);\n",
              "      border-top-color: var(--fill-color);\n",
              "      border-right-color: var(--fill-color);\n",
              "    }\n",
              "    40% {\n",
              "      border-color: transparent;\n",
              "      border-right-color: var(--fill-color);\n",
              "      border-top-color: var(--fill-color);\n",
              "    }\n",
              "    60% {\n",
              "      border-color: transparent;\n",
              "      border-right-color: var(--fill-color);\n",
              "    }\n",
              "    80% {\n",
              "      border-color: transparent;\n",
              "      border-right-color: var(--fill-color);\n",
              "      border-bottom-color: var(--fill-color);\n",
              "    }\n",
              "    90% {\n",
              "      border-color: transparent;\n",
              "      border-bottom-color: var(--fill-color);\n",
              "    }\n",
              "  }\n",
              "</style>\n",
              "\n",
              "  <script>\n",
              "    async function quickchart(key) {\n",
              "      const quickchartButtonEl =\n",
              "        document.querySelector('#' + key + ' button');\n",
              "      quickchartButtonEl.disabled = true;  // To prevent multiple clicks.\n",
              "      quickchartButtonEl.classList.add('colab-df-spinner');\n",
              "      try {\n",
              "        const charts = await google.colab.kernel.invokeFunction(\n",
              "            'suggestCharts', [key], {});\n",
              "      } catch (error) {\n",
              "        console.error('Error during call to suggestCharts:', error);\n",
              "      }\n",
              "      quickchartButtonEl.classList.remove('colab-df-spinner');\n",
              "      quickchartButtonEl.classList.add('colab-df-quickchart-complete');\n",
              "    }\n",
              "    (() => {\n",
              "      let quickchartButtonEl =\n",
              "        document.querySelector('#df-4deaa271-e7b0-4358-b130-f3f344e2a975 button');\n",
              "      quickchartButtonEl.style.display =\n",
              "        google.colab.kernel.accessAllowed ? 'block' : 'none';\n",
              "    })();\n",
              "  </script>\n",
              "</div>\n",
              "    </div>\n",
              "  </div>\n"
            ]
          },
          "metadata": {},
          "execution_count": 75
        }
      ]
    },
    {
      "cell_type": "code",
      "source": [
        "data['game_date'] = data['game_date'].astype(str)\n",
        "data['year'] = data['game_date'].str[:4].astype(int)\n",
        "data['month'] = data['game_date'].str[4:6].astype(int)\n",
        "data['day'] = data['game_date'].str[6:8].astype(int)\n",
        "data.head()\n",
        "data.drop(labels = ['game_date'], axis = 1)"
      ],
      "metadata": {
        "colab": {
          "base_uri": "https://localhost:8080/",
          "height": 475
        },
        "id": "T1CeIxaNCytN",
        "outputId": "2b7bec0d-b379-4050-f8d5-c5cf28453e30"
      },
      "execution_count": null,
      "outputs": [
        {
          "output_type": "execute_result",
          "data": {
            "text/plain": [
              "       Unnamed: 0 home_team away_team  is_day_game  home_score  away_score  \\\n",
              "0               0       NYN       CHN        False           3           5   \n",
              "1               1       CHN       NYN        False           1           5   \n",
              "2               2       ATL       COL         True           2           0   \n",
              "3               3       CIN       MIL         True           3           3   \n",
              "4               4       FLO       SFN        False           6           4   \n",
              "...           ...       ...       ...          ...         ...         ...   \n",
              "56770       56770       CHA       SDN         True           1           2   \n",
              "56771       56771       DET       CLE         True           5           2   \n",
              "56772       56772       KCA       NYA         True           5           2   \n",
              "56773       56773       SEA       TEX         True           1           0   \n",
              "56774       56774       TOR       TBA         True           8          12   \n",
              "\n",
              "       venue                                 venue_name         city state  \\\n",
              "0      TOK01                                 Tokyo Dome        Tokyo   JAP   \n",
              "1      TOK01                                 Tokyo Dome        Tokyo   JAP   \n",
              "2      ATL02                               Turner Field      Atlanta    GA   \n",
              "3      CIN08                              Cinergy Field   Cincinnati    OH   \n",
              "4      MIA01                           Sun Life Stadium        Miami    FL   \n",
              "...      ...                                        ...          ...   ...   \n",
              "56770  CHI12  Guaranteed Rate Field;U.S. Cellular Field      Chicago    IL   \n",
              "56771  DET05                              Comerica Park      Detroit    MI   \n",
              "56772  KAN06                           Kauffman Stadium  Kansas City    MO   \n",
              "56773  SEA03                               Safeco Field      Seattle    WA   \n",
              "56774  TOR02                              Rogers Centre      Toronto   ONT   \n",
              "\n",
              "       ...  away_2b  away_3b  away_hr  away_fo  away_so  away_bb  away_hbp  \\\n",
              "0      ...        1        0        1       24        4        3         0   \n",
              "1      ...        0        0        0       24        9        6         0   \n",
              "2      ...        0        0        2       17        6        1         1   \n",
              "3      ...        1        0        1       10        4        1         0   \n",
              "4      ...        3        0        0       17        7        1         1   \n",
              "...    ...      ...      ...      ...      ...      ...      ...       ...   \n",
              "56770  ...        0        0        0       17       16        3         1   \n",
              "56771  ...        4        0        1       16        7        6         0   \n",
              "56772  ...        0        1        3       15        8        1         0   \n",
              "56773  ...        0        0        0       14       10        1         1   \n",
              "56774  ...        2        2        1       21        7        3         2   \n",
              "\n",
              "       year  month  day  \n",
              "0      2000      3   29  \n",
              "1      2000      3   30  \n",
              "2      2000      4    3  \n",
              "3      2000      4    3  \n",
              "4      2000      4    3  \n",
              "...     ...    ...  ...  \n",
              "56770  2023     10    1  \n",
              "56771  2023     10    1  \n",
              "56772  2023     10    1  \n",
              "56773  2023     10    1  \n",
              "56774  2023     10    1  \n",
              "\n",
              "[56775 rows x 31 columns]"
            ],
            "text/html": [
              "\n",
              "  <div id=\"df-4aa63ff9-c27a-4fd9-b280-851f8d669e33\" class=\"colab-df-container\">\n",
              "    <div>\n",
              "<style scoped>\n",
              "    .dataframe tbody tr th:only-of-type {\n",
              "        vertical-align: middle;\n",
              "    }\n",
              "\n",
              "    .dataframe tbody tr th {\n",
              "        vertical-align: top;\n",
              "    }\n",
              "\n",
              "    .dataframe thead th {\n",
              "        text-align: right;\n",
              "    }\n",
              "</style>\n",
              "<table border=\"1\" class=\"dataframe\">\n",
              "  <thead>\n",
              "    <tr style=\"text-align: right;\">\n",
              "      <th></th>\n",
              "      <th>Unnamed: 0</th>\n",
              "      <th>home_team</th>\n",
              "      <th>away_team</th>\n",
              "      <th>is_day_game</th>\n",
              "      <th>home_score</th>\n",
              "      <th>away_score</th>\n",
              "      <th>venue</th>\n",
              "      <th>venue_name</th>\n",
              "      <th>city</th>\n",
              "      <th>state</th>\n",
              "      <th>...</th>\n",
              "      <th>away_2b</th>\n",
              "      <th>away_3b</th>\n",
              "      <th>away_hr</th>\n",
              "      <th>away_fo</th>\n",
              "      <th>away_so</th>\n",
              "      <th>away_bb</th>\n",
              "      <th>away_hbp</th>\n",
              "      <th>year</th>\n",
              "      <th>month</th>\n",
              "      <th>day</th>\n",
              "    </tr>\n",
              "  </thead>\n",
              "  <tbody>\n",
              "    <tr>\n",
              "      <th>0</th>\n",
              "      <td>0</td>\n",
              "      <td>NYN</td>\n",
              "      <td>CHN</td>\n",
              "      <td>False</td>\n",
              "      <td>3</td>\n",
              "      <td>5</td>\n",
              "      <td>TOK01</td>\n",
              "      <td>Tokyo Dome</td>\n",
              "      <td>Tokyo</td>\n",
              "      <td>JAP</td>\n",
              "      <td>...</td>\n",
              "      <td>1</td>\n",
              "      <td>0</td>\n",
              "      <td>1</td>\n",
              "      <td>24</td>\n",
              "      <td>4</td>\n",
              "      <td>3</td>\n",
              "      <td>0</td>\n",
              "      <td>2000</td>\n",
              "      <td>3</td>\n",
              "      <td>29</td>\n",
              "    </tr>\n",
              "    <tr>\n",
              "      <th>1</th>\n",
              "      <td>1</td>\n",
              "      <td>CHN</td>\n",
              "      <td>NYN</td>\n",
              "      <td>False</td>\n",
              "      <td>1</td>\n",
              "      <td>5</td>\n",
              "      <td>TOK01</td>\n",
              "      <td>Tokyo Dome</td>\n",
              "      <td>Tokyo</td>\n",
              "      <td>JAP</td>\n",
              "      <td>...</td>\n",
              "      <td>0</td>\n",
              "      <td>0</td>\n",
              "      <td>0</td>\n",
              "      <td>24</td>\n",
              "      <td>9</td>\n",
              "      <td>6</td>\n",
              "      <td>0</td>\n",
              "      <td>2000</td>\n",
              "      <td>3</td>\n",
              "      <td>30</td>\n",
              "    </tr>\n",
              "    <tr>\n",
              "      <th>2</th>\n",
              "      <td>2</td>\n",
              "      <td>ATL</td>\n",
              "      <td>COL</td>\n",
              "      <td>True</td>\n",
              "      <td>2</td>\n",
              "      <td>0</td>\n",
              "      <td>ATL02</td>\n",
              "      <td>Turner Field</td>\n",
              "      <td>Atlanta</td>\n",
              "      <td>GA</td>\n",
              "      <td>...</td>\n",
              "      <td>0</td>\n",
              "      <td>0</td>\n",
              "      <td>2</td>\n",
              "      <td>17</td>\n",
              "      <td>6</td>\n",
              "      <td>1</td>\n",
              "      <td>1</td>\n",
              "      <td>2000</td>\n",
              "      <td>4</td>\n",
              "      <td>3</td>\n",
              "    </tr>\n",
              "    <tr>\n",
              "      <th>3</th>\n",
              "      <td>3</td>\n",
              "      <td>CIN</td>\n",
              "      <td>MIL</td>\n",
              "      <td>True</td>\n",
              "      <td>3</td>\n",
              "      <td>3</td>\n",
              "      <td>CIN08</td>\n",
              "      <td>Cinergy Field</td>\n",
              "      <td>Cincinnati</td>\n",
              "      <td>OH</td>\n",
              "      <td>...</td>\n",
              "      <td>1</td>\n",
              "      <td>0</td>\n",
              "      <td>1</td>\n",
              "      <td>10</td>\n",
              "      <td>4</td>\n",
              "      <td>1</td>\n",
              "      <td>0</td>\n",
              "      <td>2000</td>\n",
              "      <td>4</td>\n",
              "      <td>3</td>\n",
              "    </tr>\n",
              "    <tr>\n",
              "      <th>4</th>\n",
              "      <td>4</td>\n",
              "      <td>FLO</td>\n",
              "      <td>SFN</td>\n",
              "      <td>False</td>\n",
              "      <td>6</td>\n",
              "      <td>4</td>\n",
              "      <td>MIA01</td>\n",
              "      <td>Sun Life Stadium</td>\n",
              "      <td>Miami</td>\n",
              "      <td>FL</td>\n",
              "      <td>...</td>\n",
              "      <td>3</td>\n",
              "      <td>0</td>\n",
              "      <td>0</td>\n",
              "      <td>17</td>\n",
              "      <td>7</td>\n",
              "      <td>1</td>\n",
              "      <td>1</td>\n",
              "      <td>2000</td>\n",
              "      <td>4</td>\n",
              "      <td>3</td>\n",
              "    </tr>\n",
              "    <tr>\n",
              "      <th>...</th>\n",
              "      <td>...</td>\n",
              "      <td>...</td>\n",
              "      <td>...</td>\n",
              "      <td>...</td>\n",
              "      <td>...</td>\n",
              "      <td>...</td>\n",
              "      <td>...</td>\n",
              "      <td>...</td>\n",
              "      <td>...</td>\n",
              "      <td>...</td>\n",
              "      <td>...</td>\n",
              "      <td>...</td>\n",
              "      <td>...</td>\n",
              "      <td>...</td>\n",
              "      <td>...</td>\n",
              "      <td>...</td>\n",
              "      <td>...</td>\n",
              "      <td>...</td>\n",
              "      <td>...</td>\n",
              "      <td>...</td>\n",
              "      <td>...</td>\n",
              "    </tr>\n",
              "    <tr>\n",
              "      <th>56770</th>\n",
              "      <td>56770</td>\n",
              "      <td>CHA</td>\n",
              "      <td>SDN</td>\n",
              "      <td>True</td>\n",
              "      <td>1</td>\n",
              "      <td>2</td>\n",
              "      <td>CHI12</td>\n",
              "      <td>Guaranteed Rate Field;U.S. Cellular Field</td>\n",
              "      <td>Chicago</td>\n",
              "      <td>IL</td>\n",
              "      <td>...</td>\n",
              "      <td>0</td>\n",
              "      <td>0</td>\n",
              "      <td>0</td>\n",
              "      <td>17</td>\n",
              "      <td>16</td>\n",
              "      <td>3</td>\n",
              "      <td>1</td>\n",
              "      <td>2023</td>\n",
              "      <td>10</td>\n",
              "      <td>1</td>\n",
              "    </tr>\n",
              "    <tr>\n",
              "      <th>56771</th>\n",
              "      <td>56771</td>\n",
              "      <td>DET</td>\n",
              "      <td>CLE</td>\n",
              "      <td>True</td>\n",
              "      <td>5</td>\n",
              "      <td>2</td>\n",
              "      <td>DET05</td>\n",
              "      <td>Comerica Park</td>\n",
              "      <td>Detroit</td>\n",
              "      <td>MI</td>\n",
              "      <td>...</td>\n",
              "      <td>4</td>\n",
              "      <td>0</td>\n",
              "      <td>1</td>\n",
              "      <td>16</td>\n",
              "      <td>7</td>\n",
              "      <td>6</td>\n",
              "      <td>0</td>\n",
              "      <td>2023</td>\n",
              "      <td>10</td>\n",
              "      <td>1</td>\n",
              "    </tr>\n",
              "    <tr>\n",
              "      <th>56772</th>\n",
              "      <td>56772</td>\n",
              "      <td>KCA</td>\n",
              "      <td>NYA</td>\n",
              "      <td>True</td>\n",
              "      <td>5</td>\n",
              "      <td>2</td>\n",
              "      <td>KAN06</td>\n",
              "      <td>Kauffman Stadium</td>\n",
              "      <td>Kansas City</td>\n",
              "      <td>MO</td>\n",
              "      <td>...</td>\n",
              "      <td>0</td>\n",
              "      <td>1</td>\n",
              "      <td>3</td>\n",
              "      <td>15</td>\n",
              "      <td>8</td>\n",
              "      <td>1</td>\n",
              "      <td>0</td>\n",
              "      <td>2023</td>\n",
              "      <td>10</td>\n",
              "      <td>1</td>\n",
              "    </tr>\n",
              "    <tr>\n",
              "      <th>56773</th>\n",
              "      <td>56773</td>\n",
              "      <td>SEA</td>\n",
              "      <td>TEX</td>\n",
              "      <td>True</td>\n",
              "      <td>1</td>\n",
              "      <td>0</td>\n",
              "      <td>SEA03</td>\n",
              "      <td>Safeco Field</td>\n",
              "      <td>Seattle</td>\n",
              "      <td>WA</td>\n",
              "      <td>...</td>\n",
              "      <td>0</td>\n",
              "      <td>0</td>\n",
              "      <td>0</td>\n",
              "      <td>14</td>\n",
              "      <td>10</td>\n",
              "      <td>1</td>\n",
              "      <td>1</td>\n",
              "      <td>2023</td>\n",
              "      <td>10</td>\n",
              "      <td>1</td>\n",
              "    </tr>\n",
              "    <tr>\n",
              "      <th>56774</th>\n",
              "      <td>56774</td>\n",
              "      <td>TOR</td>\n",
              "      <td>TBA</td>\n",
              "      <td>True</td>\n",
              "      <td>8</td>\n",
              "      <td>12</td>\n",
              "      <td>TOR02</td>\n",
              "      <td>Rogers Centre</td>\n",
              "      <td>Toronto</td>\n",
              "      <td>ONT</td>\n",
              "      <td>...</td>\n",
              "      <td>2</td>\n",
              "      <td>2</td>\n",
              "      <td>1</td>\n",
              "      <td>21</td>\n",
              "      <td>7</td>\n",
              "      <td>3</td>\n",
              "      <td>2</td>\n",
              "      <td>2023</td>\n",
              "      <td>10</td>\n",
              "      <td>1</td>\n",
              "    </tr>\n",
              "  </tbody>\n",
              "</table>\n",
              "<p>56775 rows × 31 columns</p>\n",
              "</div>\n",
              "    <div class=\"colab-df-buttons\">\n",
              "\n",
              "  <div class=\"colab-df-container\">\n",
              "    <button class=\"colab-df-convert\" onclick=\"convertToInteractive('df-4aa63ff9-c27a-4fd9-b280-851f8d669e33')\"\n",
              "            title=\"Convert this dataframe to an interactive table.\"\n",
              "            style=\"display:none;\">\n",
              "\n",
              "  <svg xmlns=\"http://www.w3.org/2000/svg\" height=\"24px\" viewBox=\"0 -960 960 960\">\n",
              "    <path d=\"M120-120v-720h720v720H120Zm60-500h600v-160H180v160Zm220 220h160v-160H400v160Zm0 220h160v-160H400v160ZM180-400h160v-160H180v160Zm440 0h160v-160H620v160ZM180-180h160v-160H180v160Zm440 0h160v-160H620v160Z\"/>\n",
              "  </svg>\n",
              "    </button>\n",
              "\n",
              "  <style>\n",
              "    .colab-df-container {\n",
              "      display:flex;\n",
              "      gap: 12px;\n",
              "    }\n",
              "\n",
              "    .colab-df-convert {\n",
              "      background-color: #E8F0FE;\n",
              "      border: none;\n",
              "      border-radius: 50%;\n",
              "      cursor: pointer;\n",
              "      display: none;\n",
              "      fill: #1967D2;\n",
              "      height: 32px;\n",
              "      padding: 0 0 0 0;\n",
              "      width: 32px;\n",
              "    }\n",
              "\n",
              "    .colab-df-convert:hover {\n",
              "      background-color: #E2EBFA;\n",
              "      box-shadow: 0px 1px 2px rgba(60, 64, 67, 0.3), 0px 1px 3px 1px rgba(60, 64, 67, 0.15);\n",
              "      fill: #174EA6;\n",
              "    }\n",
              "\n",
              "    .colab-df-buttons div {\n",
              "      margin-bottom: 4px;\n",
              "    }\n",
              "\n",
              "    [theme=dark] .colab-df-convert {\n",
              "      background-color: #3B4455;\n",
              "      fill: #D2E3FC;\n",
              "    }\n",
              "\n",
              "    [theme=dark] .colab-df-convert:hover {\n",
              "      background-color: #434B5C;\n",
              "      box-shadow: 0px 1px 3px 1px rgba(0, 0, 0, 0.15);\n",
              "      filter: drop-shadow(0px 1px 2px rgba(0, 0, 0, 0.3));\n",
              "      fill: #FFFFFF;\n",
              "    }\n",
              "  </style>\n",
              "\n",
              "    <script>\n",
              "      const buttonEl =\n",
              "        document.querySelector('#df-4aa63ff9-c27a-4fd9-b280-851f8d669e33 button.colab-df-convert');\n",
              "      buttonEl.style.display =\n",
              "        google.colab.kernel.accessAllowed ? 'block' : 'none';\n",
              "\n",
              "      async function convertToInteractive(key) {\n",
              "        const element = document.querySelector('#df-4aa63ff9-c27a-4fd9-b280-851f8d669e33');\n",
              "        const dataTable =\n",
              "          await google.colab.kernel.invokeFunction('convertToInteractive',\n",
              "                                                    [key], {});\n",
              "        if (!dataTable) return;\n",
              "\n",
              "        const docLinkHtml = 'Like what you see? Visit the ' +\n",
              "          '<a target=\"_blank\" href=https://colab.research.google.com/notebooks/data_table.ipynb>data table notebook</a>'\n",
              "          + ' to learn more about interactive tables.';\n",
              "        element.innerHTML = '';\n",
              "        dataTable['output_type'] = 'display_data';\n",
              "        await google.colab.output.renderOutput(dataTable, element);\n",
              "        const docLink = document.createElement('div');\n",
              "        docLink.innerHTML = docLinkHtml;\n",
              "        element.appendChild(docLink);\n",
              "      }\n",
              "    </script>\n",
              "  </div>\n",
              "\n",
              "\n",
              "<div id=\"df-19b73bc7-0922-4ee1-b73d-14ac0fccf645\">\n",
              "  <button class=\"colab-df-quickchart\" onclick=\"quickchart('df-19b73bc7-0922-4ee1-b73d-14ac0fccf645')\"\n",
              "            title=\"Suggest charts\"\n",
              "            style=\"display:none;\">\n",
              "\n",
              "<svg xmlns=\"http://www.w3.org/2000/svg\" height=\"24px\"viewBox=\"0 0 24 24\"\n",
              "     width=\"24px\">\n",
              "    <g>\n",
              "        <path d=\"M19 3H5c-1.1 0-2 .9-2 2v14c0 1.1.9 2 2 2h14c1.1 0 2-.9 2-2V5c0-1.1-.9-2-2-2zM9 17H7v-7h2v7zm4 0h-2V7h2v10zm4 0h-2v-4h2v4z\"/>\n",
              "    </g>\n",
              "</svg>\n",
              "  </button>\n",
              "\n",
              "<style>\n",
              "  .colab-df-quickchart {\n",
              "      --bg-color: #E8F0FE;\n",
              "      --fill-color: #1967D2;\n",
              "      --hover-bg-color: #E2EBFA;\n",
              "      --hover-fill-color: #174EA6;\n",
              "      --disabled-fill-color: #AAA;\n",
              "      --disabled-bg-color: #DDD;\n",
              "  }\n",
              "\n",
              "  [theme=dark] .colab-df-quickchart {\n",
              "      --bg-color: #3B4455;\n",
              "      --fill-color: #D2E3FC;\n",
              "      --hover-bg-color: #434B5C;\n",
              "      --hover-fill-color: #FFFFFF;\n",
              "      --disabled-bg-color: #3B4455;\n",
              "      --disabled-fill-color: #666;\n",
              "  }\n",
              "\n",
              "  .colab-df-quickchart {\n",
              "    background-color: var(--bg-color);\n",
              "    border: none;\n",
              "    border-radius: 50%;\n",
              "    cursor: pointer;\n",
              "    display: none;\n",
              "    fill: var(--fill-color);\n",
              "    height: 32px;\n",
              "    padding: 0;\n",
              "    width: 32px;\n",
              "  }\n",
              "\n",
              "  .colab-df-quickchart:hover {\n",
              "    background-color: var(--hover-bg-color);\n",
              "    box-shadow: 0 1px 2px rgba(60, 64, 67, 0.3), 0 1px 3px 1px rgba(60, 64, 67, 0.15);\n",
              "    fill: var(--button-hover-fill-color);\n",
              "  }\n",
              "\n",
              "  .colab-df-quickchart-complete:disabled,\n",
              "  .colab-df-quickchart-complete:disabled:hover {\n",
              "    background-color: var(--disabled-bg-color);\n",
              "    fill: var(--disabled-fill-color);\n",
              "    box-shadow: none;\n",
              "  }\n",
              "\n",
              "  .colab-df-spinner {\n",
              "    border: 2px solid var(--fill-color);\n",
              "    border-color: transparent;\n",
              "    border-bottom-color: var(--fill-color);\n",
              "    animation:\n",
              "      spin 1s steps(1) infinite;\n",
              "  }\n",
              "\n",
              "  @keyframes spin {\n",
              "    0% {\n",
              "      border-color: transparent;\n",
              "      border-bottom-color: var(--fill-color);\n",
              "      border-left-color: var(--fill-color);\n",
              "    }\n",
              "    20% {\n",
              "      border-color: transparent;\n",
              "      border-left-color: var(--fill-color);\n",
              "      border-top-color: var(--fill-color);\n",
              "    }\n",
              "    30% {\n",
              "      border-color: transparent;\n",
              "      border-left-color: var(--fill-color);\n",
              "      border-top-color: var(--fill-color);\n",
              "      border-right-color: var(--fill-color);\n",
              "    }\n",
              "    40% {\n",
              "      border-color: transparent;\n",
              "      border-right-color: var(--fill-color);\n",
              "      border-top-color: var(--fill-color);\n",
              "    }\n",
              "    60% {\n",
              "      border-color: transparent;\n",
              "      border-right-color: var(--fill-color);\n",
              "    }\n",
              "    80% {\n",
              "      border-color: transparent;\n",
              "      border-right-color: var(--fill-color);\n",
              "      border-bottom-color: var(--fill-color);\n",
              "    }\n",
              "    90% {\n",
              "      border-color: transparent;\n",
              "      border-bottom-color: var(--fill-color);\n",
              "    }\n",
              "  }\n",
              "</style>\n",
              "\n",
              "  <script>\n",
              "    async function quickchart(key) {\n",
              "      const quickchartButtonEl =\n",
              "        document.querySelector('#' + key + ' button');\n",
              "      quickchartButtonEl.disabled = true;  // To prevent multiple clicks.\n",
              "      quickchartButtonEl.classList.add('colab-df-spinner');\n",
              "      try {\n",
              "        const charts = await google.colab.kernel.invokeFunction(\n",
              "            'suggestCharts', [key], {});\n",
              "      } catch (error) {\n",
              "        console.error('Error during call to suggestCharts:', error);\n",
              "      }\n",
              "      quickchartButtonEl.classList.remove('colab-df-spinner');\n",
              "      quickchartButtonEl.classList.add('colab-df-quickchart-complete');\n",
              "    }\n",
              "    (() => {\n",
              "      let quickchartButtonEl =\n",
              "        document.querySelector('#df-19b73bc7-0922-4ee1-b73d-14ac0fccf645 button');\n",
              "      quickchartButtonEl.style.display =\n",
              "        google.colab.kernel.accessAllowed ? 'block' : 'none';\n",
              "    })();\n",
              "  </script>\n",
              "</div>\n",
              "    </div>\n",
              "  </div>\n"
            ]
          },
          "metadata": {},
          "execution_count": 3
        }
      ]
    },
    {
      "cell_type": "code",
      "source": [
        "from typing_extensions import DefaultDict\n",
        "city_column = pd.Series(data[\"city\"].unique())\n",
        "api_key = 'TC3yXtAMZvXjT0hTnPklERfaQmOa7LOwuCmOg35t'\n",
        "def get_timezone(city):\n",
        "    api_url = 'https://api.api-ninjas.com/v1/timezone?city={}'.format(city)\n",
        "    response = requests.get(api_url, headers={'X-Api-Key': api_key})\n",
        "    timezone_data = response.text.split(',')\n",
        "    return timezone_data[0][14:-1]\n",
        "#given a column of cities, how can I create a dictionary where\n",
        "timezone_dict = {}\n",
        "for city in city_column:\n",
        "  timezone_dict[city] = get_timezone(city)"
      ],
      "metadata": {
        "id": "ZtbZU7qIC8Jr"
      },
      "execution_count": null,
      "outputs": []
    },
    {
      "cell_type": "code",
      "source": [
        "data['time_zone'] = data['city'].map(timezone_dict)"
      ],
      "metadata": {
        "id": "SDmCNGXGC81f"
      },
      "execution_count": null,
      "outputs": []
    },
    {
      "cell_type": "code",
      "source": [
        "latitude_dict = {'Omaha': 41.2565,'Fort Bragg': 35.1378,'Sydney': -33.8688,'London': 51.5074, 'Dyersville': 42.4842,'Williamsport': 41.2412, 'Lake Buena Vista': 28.3852,'Monterrey': 25.4380,'Tokyo': 35.6895,'Dunedin': 28.0197,'Buffalo': 42.8864,'San Juan': 18.4655,'Montreal': 45.5017,'Washington': 38.8951,'Toronto': 43.6532,'Miami': 25.7617,'St. Petersburg': 27.7676,'Houston': 29.7604, 'Cleveland': 41.4993,'Oakland': 37.8049,'Detroit': 42.3314,'Baltimore': 39.2904,'St. Louis': 38.6270,'Cincinnati': 39.1031,'Kansas City': 39.0997,'Pittsburgh': 40.4406,'Phoenix': 33.4484,'Atlanta': 33.7490,'Boston': 42.3601,'Seattle': 47.6062,'San Diego': 32.7157,'Minneapolis': 44.9778,'Los Angeles': 34.0522,'Denver': 39.7392,'Anaheim': 33.8366,'Arlington': 32.7357,'Philadelphia': 39.9526,'San Francisco': 37.7749,'Milwaukee': 43.0389,'New York': 40.7128,'Chicago': 41.8781}\n",
        "longitude_dict = {'Omaha': -95.9345,'Fort Bragg': -79.0078,'Sydney': 151.2093,'London': -0.1276,'Dyersville': -91.1290,'Williamsport': -77.0011,'Lake Buena Vista': -81.5639,'Monterrey': -100.9737,'Tokyo': 139.6917,'Dunedin': -82.7718,'Buffalo': -78.8784,'San Juan': -66.1057,'Montreal': -73.5673,'Washington': -77.0369,'Toronto': -79.3832,'Miami': -80.1918,'St. Petersburg': -82.6403,'Houston': -95.3698,'Cleveland': -81.6944,'Oakland': -122.2711,'Detroit': -83.0458,'Baltimore': -76.6122,'St. Louis': -90.1994,'Cincinnati': -84.5120,'Kansas City': -94.5786,'Pittsburgh': -79.9959,'Phoenix': -112.0740,'Atlanta': -84.3880,'Boston': -71.0589,'Seattle': -122.3321,'San Diego': -117.1611,'Minneapolis': -93.2650,'Los Angeles': -118.2437,'Denver': -104.9903,'Anaheim': -117.9143,'Arlington': -97.1081,'Philadelphia': -75.1652,'San Francisco': -122.4194,'Milwaukee': -87.9065,'New York': -74.0060,'Chicago': -87.6298}\n",
        "data['latitude'] = data['city'].map(latitude_dict)\n",
        "data['longitude'] = data['city'].map(longitude_dict)"
      ],
      "metadata": {
        "id": "7crCF2hIDJmc"
      },
      "execution_count": null,
      "outputs": []
    },
    {
      "cell_type": "code",
      "source": [
        "def distance(lat1, lat2, lon1, lon2):\n",
        "  lon1 = radians(lon1)\n",
        "  lon2 = radians(lon2)\n",
        "  lat1 = radians(lat1)\n",
        "  lat2 = radians(lat2)\n",
        "  dlon = lon2 - lon1\n",
        "  dlat = lat2 - lat1\n",
        "  a = sin(dlat / 2)**2 + cos(lat1) * cos(lat2) * sin(dlon / 2)**2\n",
        "  c = 2 * asin(sqrt(a))\n",
        "  r = 3956\n",
        "  return(abs(c * r))"
      ],
      "metadata": {
        "id": "EHDl0WMHDNSf"
      },
      "execution_count": null,
      "outputs": []
    },
    {
      "cell_type": "code",
      "source": [
        "data[\"time_zone\"].unique()"
      ],
      "metadata": {
        "colab": {
          "base_uri": "https://localhost:8080/"
        },
        "id": "_C5xdfJZp4iH",
        "outputId": "abf6f88f-9d01-4e14-d5f6-0a252727f2d2"
      },
      "execution_count": null,
      "outputs": [
        {
          "output_type": "execute_result",
          "data": {
            "text/plain": [
              "array(['Asia/Tokyo', 'America/New_York', 'America/Toronto',\n",
              "       'America/Chicago', 'America/Los_Angeles', 'America/Phoenix',\n",
              "       'Europe/Moscow', 'America/Denver', 'America/Detroit',\n",
              "       'America/Puerto_Rico', 'Australia/Sydney', 'America/Monterrey',\n",
              "       'Europe/London', 'Pacific/Auckland'], dtype=object)"
            ]
          },
          "metadata": {},
          "execution_count": 13
        }
      ]
    },
    {
      "cell_type": "code",
      "source": [
        "data.replace(['Europe/Moscow','Pacific/Auckland' ],'America/New_York',inplace=True )"
      ],
      "metadata": {
        "id": "7Ib56-cbqQiE"
      },
      "execution_count": null,
      "outputs": []
    },
    {
      "cell_type": "code",
      "source": [
        "data['time_zone'].unique()"
      ],
      "metadata": {
        "colab": {
          "base_uri": "https://localhost:8080/"
        },
        "id": "vAf74YIyqkF9",
        "outputId": "c90cb98e-cb8e-441f-a908-2206eccfea77"
      },
      "execution_count": null,
      "outputs": [
        {
          "output_type": "execute_result",
          "data": {
            "text/plain": [
              "array(['Asia/Tokyo', 'America/New_York', 'America/Toronto',\n",
              "       'America/Chicago', 'America/Los_Angeles', 'America/Phoenix',\n",
              "       'America/Denver', 'America/Detroit', 'America/Puerto_Rico',\n",
              "       'Australia/Sydney', 'America/Monterrey', 'Europe/London'],\n",
              "      dtype=object)"
            ]
          },
          "metadata": {},
          "execution_count": 17
        }
      ]
    },
    {
      "cell_type": "code",
      "source": [
        "#filt = ((data[\"away_team\"] == \"SEA\") | (data[\"home_team\"] == \"SEA\")) & (data[\"year\"]==2000)\n",
        "#data[filt]\n",
        "#goal: for each year, calculate the amount the home team traveled from their last game and the away team traveled from their last game\n",
        "#ideas: loop thru each team, check if home or away, store distance in column\n",
        "years_list = list(range(2000, 2024))\n",
        "mlb_teams_abbreviations = data[\"home_team\"].unique()\n",
        "def get_team_sched(years, teams):\n",
        "  count = 0\n",
        "  for yr in years:\n",
        "    yr_filt = data[\"year\"]==yr\n",
        "    data_yr = data[yr_filt]\n",
        "    for team in teams:\n",
        "      data_yr_team= data_yr[(data_yr[\"away_team\"] == team) | (data_yr[\"home_team\"] == team)]\n",
        "get_team_sched(years_list, mlb_teams_abbreviations)"
      ],
      "metadata": {
        "colab": {
          "base_uri": "https://localhost:8080/"
        },
        "id": "TGCFaYsCDTmW",
        "outputId": "9cbf0486-a6ea-4f87-c483-e745ad908ad0"
      },
      "execution_count": null,
      "outputs": [
        {
          "output_type": "stream",
          "name": "stdout",
          "text": [
            "32\n"
          ]
        }
      ]
    },
    {
      "cell_type": "code",
      "source": [
        "def subset(years, lat_orig, lon_orig):\n",
        "  dist_lst = []\n",
        "  for year in years:\n",
        "    lat = dict(lat_orig)\n",
        "    lon = dict(lon_orig)\n",
        "    yr_filt = data[\"year\"]== year\n",
        "    for i in range(0, len(data[yr_filt])):\n",
        "          #find the team names\"\n",
        "          home_tm = data[yr_filt].iat[i,2]\n",
        "          away_tm = data[yr_filt].iat[i,3]\n",
        "          #get coordinates\n",
        "          current_lat, current_lon = data[yr_filt].iat[i,33], data[yr_filt].iat[i,34]\n",
        "          #get home distance and away distance\n",
        "          home_dist = distance(lat[home_tm],current_lat,lon[home_tm],current_lon)\n",
        "          away_dist = distance(lat[away_tm],current_lat,lon[away_tm],current_lon)\n",
        "          #write changes in location to dictionary\n",
        "          lat[home_tm] = current_lat\n",
        "          lon[home_tm] = current_lon\n",
        "          lat[away_tm] = current_lat\n",
        "          lon[away_tm] = current_lon\n",
        "          dist_lst.append([home_dist,away_dist])\n",
        "  return dist_lst"
      ],
      "metadata": {
        "id": "U2mcWNl5K9qE"
      },
      "execution_count": null,
      "outputs": []
    },
    {
      "cell_type": "code",
      "source": [
        "latitude = {'NYN': 40.7128,'CHN': 41.8781,'ATL': 33.7490,'CIN': 39.1031,'FLO': 25.7617,'MON': 45.5017,'SLN': 38.6270,'ANA': 34.0522,'BAL': 39.2904,'MIN': 44.9778,'OAK': 37.8049,'TEX': 32.7357,'TOR': 43.6532,'ARI': 33.4484,'PIT': 40.4406,'SEA': 47.6062,'HOU': 29.7604,'KCA': 39.0997,'TBA': 27.9506,'COL': 39.7392,'MIL': 43.0389,'PHI': 39.9526,'SDN': 32.7157,'SFN': 37.7749,'BOS': 42.3601,'DET': 42.3314,'NYA': 40.7128,'LAN': 34.0522,'CHA': 41.8781,'CLE': 41.4993,'WAS': 38.8951,'MIA': 25.7617}\n",
        "longitude = {'NYN': -74.0060,'CHN': -87.6298,'ATL': -84.3880,'CIN': -84.5120,'FLO': -80.1918,'MON': -73.5673,'SLN': -90.1994,'ANA': -118.2437,'BAL': -76.6122,'MIN': -93.2650,'OAK': -122.2711,'TEX': -97.1081,'TOR': -79.3832,'ARI': -112.0740,'PIT': -79.9959,'SEA': -122.3321,'HOU': -95.3698,'KCA': -94.5786,'TBA': -82.4572,'COL': -104.9903,'MIL': -87.9065,'PHI': -75.1652,'SDN': -117.1611,'SFN': -122.4194,'BOS': -71.0589,'DET': -83.0458,'NYA': -74.0060,'LAN': -118.2437,'CHA': -87.6298,'CLE': -81.6944,'WAS': -77.0369,'MIA': -80.1918}"
      ],
      "metadata": {
        "id": "ooue4qQjb0mR"
      },
      "execution_count": null,
      "outputs": []
    },
    {
      "cell_type": "code",
      "source": [
        "latitude_copy = dict(latitude)\n",
        "longitude_copy = dict(longitude)\n",
        "years_list = list(range(2000, 2024))\n",
        "dist = subset(years_list, latitude_copy, longitude_copy)"
      ],
      "metadata": {
        "id": "nQxRQhWVkpNF"
      },
      "execution_count": null,
      "outputs": []
    },
    {
      "cell_type": "code",
      "source": [
        "#problem: for a given year, calculate the distance the home team for each game traveled, and the distance the away team traveled\n",
        "df_columns = pd.DataFrame(dist)\n",
        "df_result = pd.concat([data, df_columns], axis=1)\n",
        "df_result"
      ],
      "metadata": {
        "id": "Wcu744c0Zbfy"
      },
      "execution_count": null,
      "outputs": []
    },
    {
      "cell_type": "code",
      "source": [
        "df_result.isnull().sum()"
      ],
      "metadata": {
        "id": "jJtWBgagrRAa"
      },
      "execution_count": null,
      "outputs": []
    },
    {
      "cell_type": "code",
      "source": [
        "df_result.rename(columns={0: 'home_team_dist', 1: 'away_team_dist'}, inplace=True)"
      ],
      "metadata": {
        "id": "90seat2goslZ"
      },
      "execution_count": null,
      "outputs": []
    },
    {
      "cell_type": "code",
      "source": [
        "df_result"
      ],
      "metadata": {
        "id": "aBTzBfD0rjBT"
      },
      "execution_count": null,
      "outputs": []
    },
    {
      "cell_type": "code",
      "source": [
        "mlb_teams_abbreviations = df_result[\"home_team\"].unique()\n",
        "distances = []\n",
        "for team in mlb_teams_abbreviations:\n",
        "  add_1 = df_result[(df_result[\"year\"]==2023) & (df_result[\"home_team\"]==team)][\"home_team_dist\"].sum()\n",
        "  add_2 = df_result[(df_result[\"year\"]==2023) & (df_result[\"away_team\"]==team)][\"away_team_dist\"].sum()\n",
        "  distances.append(add_1 + add_2)\n",
        "\n",
        "d = {\"Teams\": mlb_teams_abbreviations, \"Distance Traveled\": distances}\n",
        "df = pd.DataFrame(data=d)\n",
        "df.sort_values(by=['Distance Traveled'], ascending = False)"
      ],
      "metadata": {
        "id": "SE6IDtaypBi7"
      },
      "execution_count": null,
      "outputs": []
    },
    {
      "cell_type": "code",
      "source": [
        "df_result"
      ],
      "metadata": {
        "id": "t4ZSCP2Z9_7m"
      },
      "execution_count": null,
      "outputs": []
    },
    {
      "cell_type": "code",
      "source": [
        "df_result.replace(['Pacific/Auckland','Europe/Moscow'],'America/New_York',inplace=True)"
      ],
      "metadata": {
        "id": "75vlJjmWy4CJ"
      },
      "execution_count": null,
      "outputs": []
    },
    {
      "cell_type": "code",
      "source": [
        "relative_time_dct = {\"America/Los_Angeles\": 0, \"America/Denver\": 1, \"America/Phoenix\": 1, \"America/Monterrey\": 2, \"America/Chicago\": 2, \"America/Toronto\": 3, \"America/Detroit\": 3, \"America/New_York\": 3, \"America/Puerto_Rico\": 4, \"Europe/London\": 8, \"Asia/Tokyo\": 15, \"Australia/Sydney\": 17}\n",
        "df_result['time_zone_num'] = df_result['time_zone'].map(relative_time_dct)\n",
        "df_result"
      ],
      "metadata": {
        "id": "ncGp0t5b6Fhf"
      },
      "execution_count": null,
      "outputs": []
    },
    {
      "cell_type": "code",
      "source": [
        "df_result.isnull().values.sum()"
      ],
      "metadata": {
        "colab": {
          "base_uri": "https://localhost:8080/"
        },
        "id": "HWA1cFA_E71K",
        "outputId": "ef010f61-392f-418c-e681-03f48aa3c1c4"
      },
      "execution_count": null,
      "outputs": [
        {
          "output_type": "execute_result",
          "data": {
            "text/plain": [
              "0"
            ]
          },
          "metadata": {},
          "execution_count": 32
        }
      ]
    },
    {
      "cell_type": "code",
      "source": [
        "city_time_zone = pd.Series(df_result[\"time_zone_num\"].values,index=df_result.city).to_dict()\n",
        "city_time_zone"
      ],
      "metadata": {
        "id": "EQT8rRDUEuJ3"
      },
      "execution_count": null,
      "outputs": []
    },
    {
      "cell_type": "code",
      "source": [
        "def time_zone_diff(years, time_zone_orig):\n",
        "  time_lst = []\n",
        "  for year in years:\n",
        "    lat = dict(time_zone_orig)\n",
        "    yr_filt = df_result[\"year\"]== year\n",
        "    for i in range(0, len(df_result[yr_filt])):\n",
        "          #find the team names\"\n",
        "          home_tm = df_result[yr_filt].iat[i,2]\n",
        "          away_tm = df_result[yr_filt].iat[i,3]\n",
        "          #get coordinates\n",
        "          past_zone_home = time_zone_orig[home_tm]\n",
        "          past_zone_away = time_zone_orig[away_tm]\n",
        "          current_zone = df_result[yr_filt].iat[i,37]\n",
        "          #get home distance and away distance\n",
        "          time_zone_diff_home = current_zone - past_zone_home\n",
        "          time_zone_diff_away = current_zone - past_zone_away\n",
        "          #write changes in location to dictionary\n",
        "          time_zone_orig[home_tm] = current_zone\n",
        "          time_zone_orig[away_tm] = current_zone\n",
        "          time_lst.append([time_zone_diff_home,time_zone_diff_away])\n",
        "  return time_lst"
      ],
      "metadata": {
        "id": "FZUWyron_FHa"
      },
      "execution_count": null,
      "outputs": []
    },
    {
      "cell_type": "code",
      "source": [
        "city_time_zone"
      ],
      "metadata": {
        "id": "-ciuXyB7HI-2"
      },
      "execution_count": null,
      "outputs": []
    },
    {
      "cell_type": "code",
      "source": [
        "mlb_teams_dict = {'NYN': 'New York','CHN': 'Chicago','ATL': 'Atlanta','CIN': 'Cincinnati','FLO': 'Miami','MON': 'Montreal','SLN': 'St. Louis','ANA': 'Los Angeles','BAL': 'Baltimore','MIN': 'Minneapolis','OAK': 'Oakland','TEX': 'Arlington','TOR': 'Toronto','ARI': 'Phoenix','PIT': 'Pittsburgh','SEA': 'Seattle','HOU': 'Houston','KCA': 'Kansas City','TBA': 'St. Petersburg','COL': 'Denver','MIL': 'Milwaukee','PHI': 'Philadelphia','SDN': 'San Diego','SFN': 'San Francisco','BOS': 'Boston','DET': 'Detroit','NYA': 'New York','LAN': 'Los Angeles','CHA': 'Chicago','CLE': 'Cleveland','WAS': 'Washington','MIA': 'Miami'}\n",
        "for team in mlb_teams_dict:\n",
        "  mlb_teams_dict[team] = city_time_zone[mlb_teams_dict[team]]"
      ],
      "metadata": {
        "id": "LR-8hMC0GZO7"
      },
      "execution_count": null,
      "outputs": []
    },
    {
      "cell_type": "code",
      "source": [
        "mlb_teams_dict"
      ],
      "metadata": {
        "id": "rb0CAJcESV1L"
      },
      "execution_count": null,
      "outputs": []
    },
    {
      "cell_type": "code",
      "source": [
        "df_result"
      ],
      "metadata": {
        "id": "botCaBYqHryj"
      },
      "execution_count": null,
      "outputs": []
    },
    {
      "cell_type": "code",
      "source": [
        "time_copy = dict(mlb_teams_dict)\n",
        "years_list = list(range(2000, 2024))\n",
        "time_zone_change = time_zone_diff(years_list, time_copy)\n",
        "#problem: for a given year, calculate the distance the home team for each game traveled, and the distance the away team traveled\n",
        "df_new_columns = pd.DataFrame(time_zone_change)  # Transpose to match the format\n",
        "# Concatenate the existing DataFrame and the new DataFrame with new columns\n",
        "df_result = pd.concat([df_result, df_new_columns], axis=1)\n",
        "df_result.rename(columns={0: 'time_zone_diff_home', 1: 'time_zone_diff_away'}, inplace=True)"
      ],
      "metadata": {
        "id": "b15BBfS5Ct27"
      },
      "execution_count": null,
      "outputs": []
    },
    {
      "cell_type": "code",
      "source": [
        "df_result.isnull().values.sum()"
      ],
      "metadata": {
        "colab": {
          "base_uri": "https://localhost:8080/"
        },
        "id": "rRtZcoh4TNF2",
        "outputId": "a01b5b53-fd7d-4f4c-81e8-9248ddf91185"
      },
      "execution_count": null,
      "outputs": [
        {
          "output_type": "execute_result",
          "data": {
            "text/plain": [
              "0"
            ]
          },
          "metadata": {},
          "execution_count": 38
        }
      ]
    },
    {
      "cell_type": "code",
      "source": [
        "#how can I write a test function to check whether this works?\n",
        "def tester_func(df, year, team):\n",
        "  team_time_zone = mlb_teams_dict[team]\n",
        "  filt = df[\"year\"] == year\n",
        "  for i in range(0, len(df[filt])):\n"
      ],
      "metadata": {
        "id": "SB9XfzgrNiCN"
      },
      "execution_count": null,
      "outputs": []
    },
    {
      "cell_type": "code",
      "source": [
        "df_result[\"time_zone\"].unique()"
      ],
      "metadata": {
        "id": "QUiZanED8E8r"
      },
      "execution_count": null,
      "outputs": []
    },
    {
      "cell_type": "code",
      "source": [
        "df_result.to_csv(\"training_data.csv\")"
      ],
      "metadata": {
        "id": "cfjr7XWA8Qlt"
      },
      "execution_count": null,
      "outputs": []
    },
    {
      "cell_type": "code",
      "source": [
        "df_result = df_result.assign(road_series_count_home = 0, road_series_count_away = 0)"
      ],
      "metadata": {
        "id": "LLB_tIBGb9Ii"
      },
      "execution_count": null,
      "outputs": []
    },
    {
      "cell_type": "code",
      "source": [
        "def day_of_year(date):\n",
        "    year = int(date[:4])\n",
        "    month = int(date[4:6])\n",
        "    day = int(date[6:8])\n",
        "    month_total = [0, 31, 28, 31, 30, 31, 30, 31, 31, 30, 31, 30, 31]\n",
        "    if (((year % 4 == 0) & (year % 100 != 0)) | (year % 400 == 0)):\n",
        "        month_total[2] = 29\n",
        "    day_of_year= day + sum(month_total[:month])\n",
        "    return day_of_year\n",
        "df_result[\"game_date\"] = df_result[\"game_date\"].map(day_of_year)\n",
        "df_result"
      ],
      "metadata": {
        "id": "7In3InVIp_9C"
      },
      "execution_count": null,
      "outputs": []
    },
    {
      "cell_type": "code",
      "source": [
        "all_yrs = df_result[\"year\"].unique()"
      ],
      "metadata": {
        "id": "ZlWlLkejmF7U"
      },
      "execution_count": null,
      "outputs": []
    },
    {
      "cell_type": "code",
      "source": [
        "df_result = df_result.assign(road_days=0)"
      ],
      "metadata": {
        "id": "WEQD5eggt8oy"
      },
      "execution_count": null,
      "outputs": []
    },
    {
      "cell_type": "code",
      "source": [
        "df_result.drop()"
      ],
      "metadata": {
        "id": "vbpZ6Ve2uJXm"
      },
      "execution_count": null,
      "outputs": []
    },
    {
      "cell_type": "code",
      "source": [
        "def days_on_the_road(years):\n",
        "  mlb_teams_location = {\"NYN\": 0,\"CHN\": 0,\"ATL\": 0,\"CIN\": 0,\"FLO\": 0,\"MON\": 0, \"SLN\": 0,\"ANA\": 0,\"BAL\": 0, \"MIN\": 0,\"OAK\": 0,\"TEX\": 0,\"TOR\": 0,\"ARI\": 0,\"PIT\": 0,\"SEA\": 0,\"HOU\": 0,\"KCA\": 0,\"TBA\": 0,\"COL\": 0,\"PHI\": 0,\"SDN\": 0,\"SFN\": 0,\"BOS\": 0,\"DET\": 0,\"NYA\": 0,\"LAN\": 0,\"CHA\": 0,\"CLE\": 0,\"WAS\": 0,\"MIA\": 0, \"MIL\":0}\n",
        "  mlb_teams_current_val = {\"NYN\": 0,\"CHN\": 0,\"ATL\": 0,\"CIN\": 0,\"FLO\": 0,\"MON\": 0, \"SLN\": 0,\"ANA\": 0,\"BAL\": 0, \"MIN\": 0,\"OAK\": 0,\"TEX\": 0,\"TOR\": 0,\"ARI\": 0,\"PIT\": 0,\"SEA\": 0,\"HOU\": 0,\"KCA\": 0,\"TBA\": 0,\"COL\": 0,\"PHI\": 0,\"SDN\": 0,\"SFN\": 0,\"BOS\": 0,\"DET\": 0,\"NYA\": 0,\"LAN\": 0,\"CHA\": 0,\"CLE\": 0,\"WAS\": 0,\"MIA\": 0, \"MIL\":0}\n",
        "  days_lst = []\n",
        "  for year in years:\n",
        "    yr_filt = df_result[\"year\"]== year\n",
        "    for i in range(0, len(df_result[yr_filt])):\n",
        "          date = df_result[yr_filt].iat[i,1]\n",
        "          team_name = df_result.iat[i,3]\n",
        "          past_date = mlb_teams_location[team_name]\n",
        "          if past_date == 0:\n",
        "            mlb_teams_location[team_name] = date\n",
        "            mlb_teams_current_val[team_name] = mlb_teams_current_val[team_name] + 1\n",
        "            days_lst.append(1)\n",
        "          else:\n",
        "            if date - past_date == 1:\n",
        "              mlb_teams_location[team_name] = mlb_teams_location[team_name] + 1\n",
        "              mlb_teams_current_val[team_name] = mlb_teams_current_val[team_name] + 1\n",
        "              days_lst.append(mlb_teams_current_val[team_name])\n",
        "            else:\n",
        "              days_lst.append(1)\n",
        "  return days_lst\n",
        "days = days_on_the_road(all_yrs)"
      ],
      "metadata": {
        "id": "BD3UIYx_lKOj"
      },
      "execution_count": null,
      "outputs": []
    },
    {
      "cell_type": "code",
      "source": [
        "df_new_columns = pd.DataFrame(days)  # Transpose to match the format\n",
        "# Concatenate the existing DataFrame and the new DataFrame with new columns\n",
        "df_result = pd.concat([df_result, df_new_columns], axis=1)\n",
        "df_result.rename(columns={0: 'road_days'}, inplace=True)"
      ],
      "metadata": {
        "id": "0-MCrcv3X8Pq"
      },
      "execution_count": null,
      "outputs": []
    },
    {
      "cell_type": "code",
      "source": [
        "filter = df_result[\"away_team\"]==\"SEA\"\n",
        "df_result[filter]"
      ],
      "metadata": {
        "id": "x1skerBOgLt6"
      },
      "execution_count": null,
      "outputs": []
    },
    {
      "cell_type": "code",
      "source": [
        "df_result.drop()"
      ],
      "metadata": {
        "id": "c7QWVil91GT3"
      },
      "execution_count": null,
      "outputs": []
    },
    {
      "cell_type": "code",
      "source": [
        "df_result.isnull().values.sum()"
      ],
      "metadata": {
        "colab": {
          "base_uri": "https://localhost:8080/"
        },
        "id": "4PNazGgUzM3Z",
        "outputId": "12381a98-4aa1-4ede-f4d7-8307b16933fb"
      },
      "execution_count": null,
      "outputs": [
        {
          "output_type": "execute_result",
          "data": {
            "text/plain": [
              "0"
            ]
          },
          "metadata": {},
          "execution_count": 60
        }
      ]
    },
    {
      "cell_type": "code",
      "source": [
        "df_result.to_csv(\"training_data_2.csv\")"
      ],
      "metadata": {
        "id": "uAtL2QXczT8S"
      },
      "execution_count": null,
      "outputs": []
    },
    {
      "cell_type": "code",
      "source": [
        "df_result[\"is_east_home\"] = df_result[\"time_zone_diff_home\"] > 0\n",
        "df_result[\"is_east_home\"]=df_result[\"is_east_home\"].astype(int)\n",
        "df_result[\"is_east_away\"] = df_result[\"time_zone_diff_away\"] > 0\n",
        "df_result[\"is_east_away\"]=df_result[\"is_east_away\"].astype(int)\n",
        "df_result.drop(\"is_west_home\", axis = 1, inplace=True)"
      ],
      "metadata": {
        "id": "5fiURTwP0Jvu"
      },
      "execution_count": null,
      "outputs": []
    },
    {
      "cell_type": "code",
      "source": [
        "df_result[[\"time_zone_diff_home\",\"time_zone_diff_away\"]]=df_result[[\"time_zone_diff_home\",\"time_zone_diff_away\"]].transform(lambda x: x.abs())"
      ],
      "metadata": {
        "id": "MH6uvdQs0uAK"
      },
      "execution_count": null,
      "outputs": []
    },
    {
      "cell_type": "code",
      "source": [
        "df_result.to_csv(\"training_data_3.csv\")"
      ],
      "metadata": {
        "id": "GMV-IUCA5PGs"
      },
      "execution_count": null,
      "outputs": []
    },
    {
      "cell_type": "code",
      "source": [
        "df_result[[\"home_team\",\"away_team\",\"city\",\"latitude\",\"longitude\",\"home_team_dist\",\"away_team_dist\", \"time_zone_diff_home\",\"time_zone_diff_away\"]]"
      ],
      "metadata": {
        "id": "qrSu34995YXp"
      },
      "execution_count": null,
      "outputs": []
    },
    {
      "cell_type": "code",
      "source": [
        "df_result['is_day_game'] = df_result['is_day_game'].astype(int)\n",
        "df_sample = df_result.sample(frac = 0.05)\n",
        "X_1 = df_sample.iloc[:,35:]\n",
        "\n",
        "X = df_sample.loc[:,'home_pa':'away_hbp']\n",
        "y = df_sample.loc[:, 'home_score'] - df_sample.loc[:, 'away_score']\n",
        "X_new = pd.concat([X_1, X], axis = 1)\n",
        "X_new\n",
        "plt.figure(figsize=(10, 6))\n",
        "plt.hist(y, bins=20, color='skyblue', edgecolor='black', alpha=0.7)\n",
        "plt.title('Histogram of Score Difference')\n",
        "plt.xlabel('Score Difference')\n",
        "plt.ylabel('Frequency')\n",
        "plt.grid(True)"
      ],
      "metadata": {
        "colab": {
          "base_uri": "https://localhost:8080/",
          "height": 564
        },
        "id": "bW1nW6GsaD3L",
        "outputId": "9b796e28-baef-414e-89c9-d62d09b80242"
      },
      "execution_count": null,
      "outputs": [
        {
          "output_type": "display_data",
          "data": {
            "text/plain": [
              "<Figure size 1000x600 with 1 Axes>"
            ],
            "image/png": "[encoded data removed]"
          },
          "metadata": {}
        }
      ]
    },
    {
      "cell_type": "code",
      "source": [
        "regressor1 = Ridge(alpha = 1.0)\n",
        "feature_selector = SFS(regressor1, k_features='best', forward=False, cv=5)\n",
        "\n",
        "feature_selector = feature_selector.fit(X_new, y)\n",
        "\n",
        "\n",
        "selected_features_indices = list(feature_selector.k_feature_idx_)\n",
        "\n",
        "\n",
        "X_selected = X_new.iloc[:, selected_features_indices]\n",
        "\n",
        "\n",
        "cv_scores = cross_val_score(regressor1, X_new, y, cv=5, scoring='r2')\n",
        "\n",
        "average_r2 = np.mean(cv_scores)\n",
        "\n",
        "\n",
        "print(\"Average R² Score:\", average_r2)\n"
      ],
      "metadata": {
        "colab": {
          "base_uri": "https://localhost:8080/"
        },
        "id": "QDAcowbGaOZ-",
        "outputId": "5e8f0c46-333b-486d-a601-ad42d4f1030f"
      },
      "execution_count": null,
      "outputs": [
        {
          "output_type": "stream",
          "name": "stdout",
          "text": [
            "Average R² Score: 0.8412920205393135\n"
          ]
        }
      ]
    },
    {
      "cell_type": "code",
      "source": [
        "df_result['Home_Win'] = df_result['home_score'] > df_result['away_score']"
      ],
      "metadata": {
        "id": "CfFVqXSNaRBI"
      },
      "execution_count": null,
      "outputs": []
    },
    {
      "cell_type": "code",
      "source": [
        "def pythagorean_expectation(runs_scored, runs_against):\n",
        "    return (runs_scored ** 2) / (runs_scored ** 2 + runs_against ** 2)\n",
        "\n",
        "\n",
        "home_team_season_analysis = df_result.groupby(['year', 'home_team']).agg({'home_score': 'sum', 'away_score':'sum'}).rename(columns={'home_score': 'team_runs_scored_HOME', 'away_score':'team_runs_allowed_HOME'})\n",
        "away_team_season_analysis = df_result.groupby(['year', 'away_team']).agg({'away_score': 'sum', 'home_score':'sum'}).rename(columns={'away_score':'team_runs_scored_AWAY', 'home_score':'team_runs_allowed_AWAY'})\n",
        "\n",
        "home_team_season_analysis = home_team_season_analysis.reset_index()\n",
        "away_team_season_analysis = away_team_season_analysis.reset_index()\n",
        "\n",
        "team_season_analysis = pd.merge(home_team_season_analysis, away_team_season_analysis, left_on = ['year', 'home_team'], right_on = ['year', 'away_team'], how = 'outer')\n",
        "team_season_analysis['home_pythagorean_expectation'] = pythagorean_expectation(team_season_analysis['team_runs_scored_HOME'], team_season_analysis['team_runs_allowed_HOME'])\n",
        "team_season_analysis['away_pythagorean_expectation'] = pythagorean_expectation(team_season_analysis['team_runs_scored_AWAY'], team_season_analysis['team_runs_allowed_AWAY'])\n",
        "\n",
        "team_season_analysis.head(35)"
      ],
      "metadata": {
        "id": "8mvg69UlaTiW"
      },
      "execution_count": null,
      "outputs": []
    },
    {
      "cell_type": "code",
      "source": [
        "def prepare_data(df):\n",
        "  year = df['year']\n",
        "  home_team = df['home_team']\n",
        "  away_team = df['away_team']\n",
        "  home_team_pythagorean = team_season_analysis[(team_season_analysis['year'] == year) & (team_season_analysis['home_team'] == home_team)]['home_pythagorean_expectation'].iloc[0]\n",
        "  away_team_pythagorean = team_season_analysis[(team_season_analysis['year'] == year) & (team_season_analysis['away_team'] == away_team)]['away_pythagorean_expectation'].iloc[0]\n",
        "  return home_team_pythagorean > away_team_pythagorean\n",
        "\n",
        "df_result['Expected_Pythagorean_Result'] = df_result.apply(prepare_data, axis = 1)\n",
        "df_result.head()\n"
      ],
      "metadata": {
        "id": "pkYH_6ikaW_e"
      },
      "execution_count": null,
      "outputs": []
    },
    {
      "cell_type": "code",
      "source": [
        "def create_granger_causality_offensive(team_abbrev,venue, baseball_stat, fatigue_stat,year):\n",
        "  new_df = df_result[((df_result['home_team'] == team_abbrev) | (df_result['away_team'] == team_abbrev)) & (df_result['year'] == year)].reset_index()\n",
        "  baseball_stats = []\n",
        "  fatigue_stats = []\n",
        "  for row in range(new_df.shape[0]):\n",
        "    home_team = False\n",
        "    if new_df['venue'][row] == venue:\n",
        "      home_team = True\n",
        "    if home_team:\n",
        "      baseball_stats.append(new_df['away_' + baseball_stat][row])\n",
        "      fatigue_stats.append(new_df['home_' + fatigue_stat][row])\n",
        "    else:\n",
        "      baseball_stats.append(new_df['home_' + baseball_stat][row])\n",
        "      fatigue_stats.append(new_df['away_' + fatigue_stat][row])\n",
        "  new_df_2 = pd.DataFrame()\n",
        "  new_df_2['baseball_stat'] = baseball_stats\n",
        "  new_df_2['fatigue_stat'] = fatigue_stats\n",
        "  scaler1 = MinMaxScaler()\n",
        "  scaler2 = MinMaxScaler()\n",
        "  scaled_baseball_stat = scaler1.fit_transform(np.array(new_df_2['baseball_stat']).reshape(-1,1))\n",
        "  scaled_fatigue_stat = scaler2.fit_transform(np.array(new_df_2['fatigue_stat']).reshape(-1,1))\n",
        "  plt.figure(figsize=(10,4))\n",
        "  plt.plot(scaled_fatigue_stat, color='r')\n",
        "  plt.plot(scaled_baseball_stat, color='b')\n",
        "  plt.legend([fatigue_stat, 'Opponent ' + baseball_stat], fontsize=16)\n",
        "  plt.title('{} {} Time Series'.format(year, team_abbrev))\n",
        "  granger_df = pd.DataFrame(np.hstack([scaled_baseball_stat, scaled_fatigue_stat]), columns=['baseball_stat', 'fatigue_stat'])\n",
        "  grangercausalitytests(granger_df, maxlag=3)\n",
        "\n",
        "def create_granger_causality_defensive(team_abbrev,venue, baseball_stat, fatigue_stat,year):\n",
        "  new_df = df_result[((df_result['home_team'] == team_abbrev) | (df_result['away_team'] == team_abbrev)) & (df_result['year'] == year)].reset_index()\n",
        "  baseball_stats = []\n",
        "  fatigue_stats = []\n",
        "  for row in range(new_df.shape[0]):\n",
        "    home_team = False\n",
        "    if new_df['venue'][row] == venue:\n",
        "      home_team = True\n",
        "    if home_team:\n",
        "      baseball_stats.append(new_df['home_' + baseball_stat][row])\n",
        "      fatigue_stats.append(new_df['home_' + fatigue_stat][row])\n",
        "    else:\n",
        "      baseball_stats.append(new_df['away_' + baseball_stat][row])\n",
        "      fatigue_stats.append(new_df['away_' + fatigue_stat][row])\n",
        "  new_df_2 = pd.DataFrame()\n",
        "  new_df_2['baseball_stat'] = baseball_stats\n",
        "  new_df_2['fatigue_stat'] = fatigue_stats\n",
        "  scaler1 = MinMaxScaler()\n",
        "  scaler2 = MinMaxScaler()\n",
        "  scaled_baseball_stat = scaler1.fit_transform(np.array(new_df_2['baseball_stat']).reshape(-1,1))\n",
        "  scaled_fatigue_stat = scaler2.fit_transform(np.array(new_df_2['fatigue_stat']).reshape(-1,1))\n",
        "  plt.figure(figsize=(10,4))\n",
        "  plt.plot(scaled_fatigue_stat, color='r')\n",
        "  plt.plot(scaled_baseball_stat, color='b')\n",
        "  plt.legend([fatigue_stat, 'Team ' + baseball_stat], fontsize=16)\n",
        "  plt.title('{} {} Time Series'.format(year, team_abbrev))\n",
        "  granger_df = pd.DataFrame(np.hstack([scaled_baseball_stat, scaled_fatigue_stat]), columns=['baseball_stat', 'fatigue_stat'])\n",
        "  grangercausalitytests(granger_df, maxlag=3)\n"
      ],
      "metadata": {
        "id": "OFMkNTEValuc"
      },
      "execution_count": null,
      "outputs": []
    },
    {
      "cell_type": "code",
      "source": [
        "create_granger_causality_offensive(\"HOU\",\"HOU03\", 'oba_conceded', 'team_dist',2000)\n",
        "create_granger_causality_defensive(\"HOU\",\"HOU03\", 'oba_conceded', 'team_dist',2000)"
      ],
      "metadata": {
        "id": "76dyMZPta5zY"
      },
      "execution_count": null,
      "outputs": []
    }
  ]
}